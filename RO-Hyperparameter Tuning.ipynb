{
 "cells": [
  {
   "cell_type": "code",
   "execution_count": 1,
   "metadata": {},
   "outputs": [],
   "source": [
    "import dataframe_image as dfi\n",
    "import matplotlib.pyplot as plt\n",
    "import mlrose_hiive\n",
    "import mlrose\n",
    "import numpy as np\n",
    "import pandas as pd\n",
    "import time\n",
    "import warnings\n",
    "\n",
    "from sklearn.metrics import accuracy_score\n",
    "from sklearn.model_selection import (GridSearchCV, train_test_split, validation_curve)   \n",
    "from sklearn.ensemble import AdaBoostClassifier\n",
    "from sklearn.svm import SVC\n",
    "from sklearn.tree import DecisionTreeClassifier\n",
    "from sklearn.neighbors import KNeighborsClassifier\n",
    "from sklearn.neural_network import MLPClassifier\n",
    "from sklearn import preprocessing\n",
    "np.random.seed(42)"
   ]
  },
  {
   "cell_type": "code",
   "execution_count": 29,
   "metadata": {},
   "outputs": [],
   "source": [
    "# Fitness Functions\n",
    "fitness_functions = [('fourpeaks', mlrose_hiive.FourPeaks()), ('contpeaks', mlrose_hiive.ContinuousPeaks()), ('onemax',mlrose_hiive.OneMax())]"
   ]
  },
  {
   "cell_type": "code",
   "execution_count": 54,
   "metadata": {},
   "outputs": [
    {
     "name": "stdout",
     "output_type": "stream",
     "text": [
      "Find best RHC hyperparam for <mlrose_hiive.fitness.four_peaks.FourPeaks object at 0x121766f40>\n",
      "Best RHC parameters for fourpeaks = 100\n",
      "Find best RHC hyperparam for <mlrose_hiive.fitness.continuous_peaks.ContinuousPeaks object at 0x121766be0>\n",
      "Best RHC parameters for contpeaks = 100\n",
      "Find best RHC hyperparam for <mlrose_hiive.fitness.one_max.OneMax object at 0x1217661f0>\n",
      "Best RHC parameters for onemax = 100\n"
     ]
    }
   ],
   "source": [
    "# RHC tuning\n",
    "\n",
    "best_restart_param = None\n",
    "best_restart_fitness_value = None\n",
    "for func in fitness_functions:\n",
    "    fitness_function = func[1]\n",
    "    print(\"Find best RHC hyperparam for {}\".format(str(fitness_function)))\n",
    "    for i in [0, 25, 75, 100]:\n",
    "        problem = mlrose_hiive.DiscreteOpt(length=100, fitness_fn=fitness_function, maximize=True)\n",
    "        rhc_best_state, rhc_best_fitness, rhc_fitness_curve = mlrose_hiive.random_hill_climb(problem, \n",
    "                                                                                     max_attempts = 500, \n",
    "                                                                                     max_iters=500, \n",
    "                                                                                     curve=True, \n",
    "                                                                                     random_state=42,\n",
    "                                                                                     restarts = i)\n",
    "        if not best_restart_fitness_value:\n",
    "            best_restart_param = i\n",
    "            best_restart_fitness_value = rhc_best_fitness\n",
    "        elif rhc_best_fitness > best_restart_fitness_value:\n",
    "            best_restart_param = i\n",
    "            best_restart_fitness_value = rhc_best_fitness\n",
    "    print(\"Best RHC parameters for {} = {}\".format(func[0], str(best_restart_param)))"
   ]
  },
  {
   "cell_type": "code",
   "execution_count": 55,
   "metadata": {},
   "outputs": [
    {
     "name": "stdout",
     "output_type": "stream",
     "text": [
      "Find best SA hyperparam for <mlrose_hiive.fitness.four_peaks.FourPeaks object at 0x121766f40>\n",
      "Best SA parameters for fourpeaks = (1, 0.1, 0.001)\n",
      "Find best SA hyperparam for <mlrose_hiive.fitness.continuous_peaks.ContinuousPeaks object at 0x121766be0>\n",
      "Best SA parameters for contpeaks = (1, 0.1, 1)\n",
      "Find best SA hyperparam for <mlrose_hiive.fitness.one_max.OneMax object at 0x1217661f0>\n",
      "Best SA parameters for onemax = (1, 0.1, 1)\n"
     ]
    }
   ],
   "source": [
    "# SA Tuning\n",
    "import itertools\n",
    "\n",
    "# init_temp, decay, min_temp\n",
    "sa_hyperparams = [\n",
    "   [1, 2, 4, 8, 16, 32, 64],\n",
    "   [0.1, 0.2, 0.4, 0.8],\n",
    "   [0.001, 0.01, 0.1, 1]\n",
    "]\n",
    "\n",
    "best_param = None\n",
    "best_fitness_value = None\n",
    "for func in fitness_functions:\n",
    "    fitness_function = func[1]\n",
    "    print(\"Find best SA hyperparam for {}\".format(str(fitness_function)))\n",
    "    for i in itertools.product(*sa_hyperparams):\n",
    "        problem = mlrose_hiive.DiscreteOpt(length=100, fitness_fn=fitness_function, maximize=True)\n",
    "        decay = mlrose_hiive.GeomDecay(init_temp = i[0], decay=i[1], min_temp=i[2])\n",
    "        sa_best_state, sa_best_fitness, sa_fitness_curve = mlrose_hiive.simulated_annealing(\n",
    "                                                    problem, \n",
    "                                                    max_attempts=500, \n",
    "                                                    max_iters=500, \n",
    "                                                    curve=True, \n",
    "                                                    random_state=42,\n",
    "                                                    schedule=decay)\n",
    "        if not best_fitness_value:\n",
    "            best_param = i\n",
    "            best_fitness_value = sa_best_fitness\n",
    "        elif sa_best_fitness > best_fitness_value:\n",
    "            best_param = i\n",
    "            best_fitness_value = sa_best_fitness\n",
    "    print(\"Best SA parameters for {} = {}\".format(func[0], str(best_param)))"
   ]
  },
  {
   "cell_type": "code",
   "execution_count": 59,
   "metadata": {},
   "outputs": [
    {
     "name": "stdout",
     "output_type": "stream",
     "text": [
      "Find best GA hyperparam for <mlrose_hiive.fitness.four_peaks.FourPeaks object at 0x121766f40>\n",
      "Best parameters for fourpeaks = (200, 0.2)\n",
      "Find best GA hyperparam for <mlrose_hiive.fitness.continuous_peaks.ContinuousPeaks object at 0x121766be0>\n",
      "Best parameters for contpeaks = (200, 0.8)\n",
      "Find best GA hyperparam for <mlrose_hiive.fitness.one_max.OneMax object at 0x1217661f0>\n",
      "Best parameters for onemax = (100, 0.2)\n"
     ]
    }
   ],
   "source": [
    "# GA Tuning\n",
    "\n",
    "import itertools\n",
    "\n",
    "# init_temp, decay, min_temp\n",
    "ga_hyperparams = [\n",
    "   [100, 200, 400],\n",
    "   [0.2, 0.4, 0.8]\n",
    "]\n",
    "\n",
    "best_param = None\n",
    "best_fitness_value = None\n",
    "for func in fitness_functions:\n",
    "    fitness_function = func[1]\n",
    "    print(\"Find best GA hyperparam for {}\".format(str(fitness_function)))\n",
    "    best_param = None\n",
    "    best_fitness_value = None\n",
    "    for i in itertools.product(*ga_hyperparams):\n",
    "        problem = mlrose_hiive.DiscreteOpt(length=100, fitness_fn=fitness_function, maximize=True)\n",
    "        ga_best_state, ga_best_fitness, ga_fitness_curve = mlrose_hiive.genetic_alg(\n",
    "                                                    problem, \n",
    "                                                    max_attempts=500, \n",
    "                                                    max_iters=500, \n",
    "                                                    curve=True, \n",
    "                                                    random_state=42,\n",
    "                                                    pop_size=i[0],\n",
    "                                                    mutation_prob=i[1])\n",
    "        if not best_fitness_value:\n",
    "            best_param = i\n",
    "            best_fitness_value = ga_best_fitness\n",
    "        elif ga_best_fitness > best_fitness_value:\n",
    "            best_param = i\n",
    "            best_fitness_value = ga_best_fitness\n",
    "    print(\"Best parameters for {} = {}\".format(func[0], str(best_param)))"
   ]
  },
  {
   "cell_type": "code",
   "execution_count": 61,
   "metadata": {},
   "outputs": [
    {
     "name": "stdout",
     "output_type": "stream",
     "text": [
      "Find best MIMIC hyperparam for <mlrose_hiive.fitness.four_peaks.FourPeaks object at 0x121766f40>\n",
      "Best parameters for fourpeaks = 0.25\n",
      "Find best MIMIC hyperparam for <mlrose_hiive.fitness.continuous_peaks.ContinuousPeaks object at 0x121766be0>\n",
      "Best parameters for contpeaks = 0.25\n",
      "Find best MIMIC hyperparam for <mlrose_hiive.fitness.one_max.OneMax object at 0x1217661f0>\n",
      "Best parameters for onemax = 0.25\n"
     ]
    }
   ],
   "source": [
    "# MIMIC Tuning\n",
    "best_param = None\n",
    "best_fitness_value = None\n",
    "for func in fitness_functions:\n",
    "    fitness_function = func[1]\n",
    "    print(\"Find best MIMIC hyperparam for {}\".format(str(fitness_function)))\n",
    "    best_param = None\n",
    "    best_fitness_value = None\n",
    "    for i in [0.25, 0.5, 0.75]:\n",
    "        problem = mlrose_hiive.DiscreteOpt(length=100, fitness_fn=fitness_function, maximize=True)\n",
    "        mimic_best_state, mimic_best_fitness, mimic_fitness_curve = mlrose_hiive.mimic(\n",
    "                                                            problem, \n",
    "                                                            max_attempts = 100, \n",
    "                                                            max_iters = 100,  \n",
    "                                                            curve = True, \n",
    "                                                            random_state = 42)\n",
    "        if not best_fitness_value:\n",
    "            best_param = i\n",
    "            best_fitness_value = mimic_best_fitness\n",
    "        elif mimic_best_fitness > best_fitness_value:\n",
    "            best_param = i\n",
    "            best_fitness_value = mimic_best_fitness\n",
    "    print(\"Best parameters for {} = {}\".format(func[0], str(best_param)))"
   ]
  },
  {
   "cell_type": "code",
   "execution_count": null,
   "metadata": {},
   "outputs": [],
   "source": []
  }
 ],
 "metadata": {
  "kernelspec": {
   "display_name": "Python 3",
   "language": "python",
   "name": "python3"
  },
  "language_info": {
   "codemirror_mode": {
    "name": "ipython",
    "version": 3
   },
   "file_extension": ".py",
   "mimetype": "text/x-python",
   "name": "python",
   "nbconvert_exporter": "python",
   "pygments_lexer": "ipython3",
   "version": "3.8.1"
  }
 },
 "nbformat": 4,
 "nbformat_minor": 4
}
