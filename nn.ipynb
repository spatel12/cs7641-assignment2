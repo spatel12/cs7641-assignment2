{
 "cells": [
  {
   "cell_type": "code",
   "execution_count": 16,
   "metadata": {},
   "outputs": [],
   "source": [
    "import dataframe_image as dfi\n",
    "import matplotlib.pyplot as plt\n",
    "import mlrose_hiive\n",
    "import mlrose\n",
    "import numpy as np\n",
    "import pandas as pd\n",
    "import time\n",
    "import warnings\n",
    "\n",
    "from sklearn.metrics import accuracy_score\n",
    "from sklearn.model_selection import (GridSearchCV, train_test_split, validation_curve)   \n",
    "from sklearn.ensemble import AdaBoostClassifier\n",
    "from sklearn.svm import SVC\n",
    "from sklearn.tree import DecisionTreeClassifier\n",
    "from sklearn.neighbors import KNeighborsClassifier\n",
    "from sklearn.neural_network import MLPClassifier\n",
    "from sklearn import preprocessing\n",
    "from yellowbrick.model_selection import LearningCurve, ValidationCurve\n",
    "np.random.seed(42)"
   ]
  },
  {
   "cell_type": "code",
   "execution_count": 17,
   "metadata": {},
   "outputs": [],
   "source": [
    "def load_data(dataset):\n",
    "    # df = pd.read_csv(\"data/\" + dataset, header=None)\n",
    "    df = pd.read_csv(\"data/\" + dataset)\n",
    "    X, y = df.iloc[:, :-1], df.iloc[:, -1]\n",
    "    X_train, X_test, y_train, y_test = train_test_split(X, y, test_size=0.2)\n",
    "\n",
    "    print(\"Dataset Filename: {}\".format(dataset))\n",
    "    print()\n",
    "\n",
    "    print(\"Number of features: {}\".format(len(df.columns) - 1))\n",
    "    print()\n",
    "\n",
    "    print(\"Total Samples: {}\".format(len(df)))\n",
    "    print()\n",
    "    \n",
    "    X_train = preprocessing.scale(X_train)\n",
    "    X_test = preprocessing.scale(X_test)\n",
    "\n",
    "    return X_train, X_test, y_train, y_test\n",
    "\n",
    "def generate_nn_curves(clf_name, clf, dataset, loss_curve, X_train, y_train, X_test, y_test):\n",
    "    # Following code was taken from the users TomDLT and Chenn on Stack Overflow\n",
    "    # https://stackoverflow.com/questions/46912557/is-it-possible-to-get-test-scores-for-each-iteration-of-mlpclassifier\n",
    "    plt.title(\"Loss Curve for {}\".format(dataset))\n",
    "    plt.xlabel(\"epoch\")\n",
    "    plt.plot(loss_curve)\n",
    "    plt.savefig(\"results/{}_loss_curve_{}.png\".format(clf_name, dataset))\n",
    "    plt.clf()\n",
    "\n",
    "#     X_train = X_train.to_numpy()\n",
    "    y_train = y_train.to_numpy()\n",
    "#     X_test = X_test.to_numpy()\n",
    "    y_test = y_test.to_numpy()\n",
    "\n",
    "    \"\"\" Home-made mini-batch learning\n",
    "    -> not to be used in out-of-core setting!\n",
    "    \"\"\"\n",
    "    N_TRAIN_SAMPLES = X_train.shape[0]\n",
    "    N_EPOCHS = 1200\n",
    "    N_BATCH = 50\n",
    "    N_CLASSES = np.unique(y_train)\n",
    "\n",
    "    scores_train = []\n",
    "    scores_test = []\n",
    "\n",
    "\n",
    "    # EPOCH\n",
    "    epoch = 0\n",
    "    while epoch < N_EPOCHS:\n",
    "        # SHUFFLING\n",
    "        random_perm = np.random.permutation(X_train.shape[0])\n",
    "        mini_batch_index = 0\n",
    "        while True:\n",
    "            # MINI-BATCH\n",
    "            indices = random_perm[mini_batch_index:mini_batch_index + N_BATCH]\n",
    "            clf.partial_fit(X_train[indices], y_train[indices], classes=N_CLASSES)\n",
    "            mini_batch_index += N_BATCH\n",
    "\n",
    "            if mini_batch_index >= N_TRAIN_SAMPLES:\n",
    "                break\n",
    "\n",
    "        # SCORE TRAIN\n",
    "        scores_train.append(clf.score(X_train, y_train))\n",
    "\n",
    "        # SCORE TEST\n",
    "        scores_test.append(clf.score(X_test, y_test))\n",
    "\n",
    "        epoch += 1\n",
    "\n",
    "    \"\"\" Plot \"\"\"\n",
    "    plt.plot(scores_train, alpha=0.8, label=\"Training score\", color=\"#0272a2\")\n",
    "    plt.plot(scores_test, alpha=0.8, label=\"Cross-validation score\", color=\"#9fc377\")\n",
    "    plt.title(\"Accuracy over epochs\", fontsize=14)\n",
    "    plt.xlabel('Epochs')\n",
    "    plt.legend(loc='best')\n",
    "    plt.savefig(\"results/{}_accuracy_over_epochs_{}.png\".format(clf_name, dataset))\n",
    "    plt.clf()\n",
    "    \n",
    "\n",
    "def generate_learning_curve(model, clf_name, scoring, sizes, cv, n_jobs, dataset_name, X_train, y_train):\n",
    "    viz = LearningCurve(model, cv=cv, scoring=scoring, train_sizes=sizes, n_jobs=n_jobs)\n",
    "    viz.fit(X_train, y_train)        \n",
    "    viz.show(\"results/{}_learning_curve_{}.png\".format(clf_name, dataset_name)) \n",
    "    plt.clf()\n",
    "    \n",
    "def record_metrics(name, score):\n",
    "    filename = \"results/metrics.csv\"\n",
    "    with open(filename, 'a+') as f:\n",
    "        timestamp = time.time()\n",
    "        f.write(\"{}|{}|{}\\n\".format(timestamp, name, score))"
   ]
  },
  {
   "cell_type": "code",
   "execution_count": 18,
   "metadata": {},
   "outputs": [
    {
     "name": "stdout",
     "output_type": "stream",
     "text": [
      "Dataset Filename: tic-tac-toe-modified.data\n",
      "\n",
      "Number of features: 9\n",
      "\n",
      "Total Samples: 958\n",
      "\n"
     ]
    }
   ],
   "source": [
    "# Load Data\n",
    "X_train, X_test, y_train, y_test = load_data(\"tic-tac-toe-modified.data\")\n",
    "\n",
    "# Best hyper parameters\n",
    "learning_rate_init = 0.01"
   ]
  },
  {
   "cell_type": "code",
   "execution_count": 19,
   "metadata": {},
   "outputs": [],
   "source": [
    "\"\"\"\n",
    "Back Prop Case\n",
    "\"\"\"\n",
    "clf = mlrose_hiive.NeuralNetwork(hidden_nodes=[5,2], activation='tanh',\n",
    "                           algorithm = 'gradient_descent',early_stopping = True,\n",
    "                           max_attempts = 100, max_iters = 5000,\n",
    "                           bias = True, learning_rate = .01,\n",
    "                           restarts=0, curve = True, random_state=42)\n",
    "\n",
    "start_time = time.time()\n",
    "clf.fit(X_train, y_train)\n",
    "end_time = time.time()\n",
    "base_time = end_time-start_time\n",
    "#generate_nn_curves(\"nn_base\", clf, \"tic-tac-toe\", clf.loss, X_train, y_train, X_test, y_test)\n",
    "#generate_learning_curve(clf, \"nn_base\", \"accuracy\", np.linspace(0.1, 1.0, 10), None, 8, \"tic-tac-toe\", X_train, y_train)\n",
    "y_pred = clf.predict(X_test)\n",
    "base_final_score = accuracy_score(y_test, y_pred)\n",
    "record_metrics(\"nn_base\", base_final_score)\n",
    "gd_fitness_curve = clf.fitness_curve"
   ]
  },
  {
   "cell_type": "code",
   "execution_count": 20,
   "metadata": {},
   "outputs": [],
   "source": [
    "\"\"\"\n",
    "Random Hill Climb\n",
    "\"\"\"\n",
    "clf = mlrose_hiive.NeuralNetwork(hidden_nodes=[5,2], activation='tanh',\n",
    "                           algorithm = 'random_hill_climb', early_stopping = True,\n",
    "                           max_attempts = 100, max_iters = 5000,\n",
    "                           bias = True, learning_rate = .01,\n",
    "                           restarts=0, curve = True, random_state=42)\n",
    "\n",
    "start_time = time.time()\n",
    "clf.fit(X_train, y_train)\n",
    "end_time = time.time()\n",
    "rhc_time = end_time-start_time\n",
    "# generate_nn_curves(\"nn_base\", clf, \"tic-tac-toe\", clf.loss_curve_, X_train, y_train, X_test, y_test)\n",
    "# generate_learning_curve(clf, \"nn_base\", \"accuracy\", np.linspace(0.1, 1.0, 10), None, 8, \"tic-tac-toe\", X_train, y_train)\n",
    "y_pred = clf.predict(X_test)\n",
    "rhc_final_score = accuracy_score(y_test, y_pred)\n",
    "record_metrics(\"nn_rhc\", rhc_final_score)\n",
    "rhc_fitness_curve = clf.fitness_curve"
   ]
  },
  {
   "cell_type": "code",
   "execution_count": 21,
   "metadata": {},
   "outputs": [],
   "source": [
    "\"\"\"\n",
    "Simulated Annealing\n",
    "\"\"\"\n",
    "clf = mlrose_hiive.NeuralNetwork(hidden_nodes=[5,2], activation='tanh',\n",
    "                           algorithm = 'simulated_annealing', early_stopping = True,\n",
    "                           max_attempts = 100, max_iters = 5000,\n",
    "                           bias = True, learning_rate = .01,\n",
    "                           restarts=0, curve = True, random_state=42)\n",
    "start_time = time.time()\n",
    "clf.fit(X_train, y_train)\n",
    "end_time = time.time()\n",
    "sa_time = end_time-start_time\n",
    "# generate_nn_curves(\"nn_base\", clf, \"tic-tac-toe\", clf.loss_curve_, X_train, y_train, X_test, y_test)\n",
    "# generate_learning_curve(clf, \"nn_base\", \"accuracy\", np.linspace(0.1, 1.0, 10), None, 8, \"tic-tac-toe\", X_train, y_train)\n",
    "y_pred = clf.predict(X_test)\n",
    "sa_final_score = accuracy_score(y_test, y_pred)\n",
    "record_metrics(\"nn_sa\", sa_final_score)\n",
    "sa_fitness_curve = clf.fitness_curve"
   ]
  },
  {
   "cell_type": "code",
   "execution_count": 22,
   "metadata": {},
   "outputs": [],
   "source": [
    "\"\"\"\n",
    "Genetic Algorithm\n",
    "\"\"\"\n",
    "clf = mlrose_hiive.NeuralNetwork(hidden_nodes=[5,2], activation='tanh',\n",
    "                           algorithm = 'genetic_alg', early_stopping = True,\n",
    "                           max_attempts = 100, max_iters = 5000,\n",
    "                           bias = True, learning_rate = .01,\n",
    "                           restarts=0, curve = True, random_state=42)\n",
    "\n",
    "clf.fit(X_train, y_train)\n",
    "start_time = time.time()\n",
    "clf.fit(X_train, y_train)\n",
    "end_time = time.time()\n",
    "ga_time = end_time-start_time\n",
    "# generate_nn_curves(\"nn_base\", clf, \"tic-tac-toe\", clf.loss_curve_, X_train, y_train, X_test, y_test)\n",
    "# generate_learning_curve(clf, \"nn_base\", \"accuracy\", np.linspace(0.1, 1.0, 10), None, 8, \"tic-tac-toe\", X_train, y_train)\n",
    "y_pred = clf.predict(X_test)\n",
    "ga_final_score = accuracy_score(y_test, y_pred)\n",
    "record_metrics(\"nn_ga\", ga_final_score)\n",
    "ga_fitness_curve = clf.fitness_curve"
   ]
  },
  {
   "cell_type": "code",
   "execution_count": 23,
   "metadata": {},
   "outputs": [
    {
     "data": {
      "image/png": "[encoded data removed]",
      "text/plain": [
       "<Figure size 576x396 with 1 Axes>"
      ]
     },
     "metadata": {},
     "output_type": "display_data"
    }
   ],
   "source": [
    "plt.plot(gd_fitness_curve)\n",
    "plt.xlabel(\"Iterations\")\n",
    "plt.ylabel(\"Loss\")\n",
    "plt.savefig(\"results/nn_gd_loss.png\")\n",
    "plt.clf()\n",
    "\n",
    "plt.plot(rhc_fitness_curve)\n",
    "plt.xlabel(\"Iterations\")\n",
    "plt.ylabel(\"Loss\")\n",
    "plt.savefig(\"results/nn_rhc_loss.png\")\n",
    "plt.clf()\n",
    "\n",
    "plt.plot(sa_fitness_curve)\n",
    "plt.xlabel(\"Iterations\")\n",
    "plt.ylabel(\"Loss\")\n",
    "plt.savefig(\"results/nn_sa_loss.png\")\n",
    "plt.clf()\n",
    "\n",
    "plt.plot(ga_fitness_curve)\n",
    "plt.xlabel(\"Iterations\")\n",
    "plt.ylabel(\"Loss\")\n",
    "plt.savefig(\"results/nn_ga_loss.png\")"
   ]
  },
  {
   "cell_type": "code",
   "execution_count": 27,
   "metadata": {},
   "outputs": [
    {
     "data": {
      "text/plain": [
       "9.166600942611694"
      ]
     },
     "execution_count": 27,
     "metadata": {},
     "output_type": "execute_result"
    }
   ],
   "source": [
    "base_time"
   ]
  },
  {
   "cell_type": "code",
   "execution_count": 28,
   "metadata": {},
   "outputs": [
    {
     "data": {
      "text/plain": [
       "7.908144235610962"
      ]
     },
     "execution_count": 28,
     "metadata": {},
     "output_type": "execute_result"
    }
   ],
   "source": [
    "sa_time"
   ]
  },
  {
   "cell_type": "code",
   "execution_count": 29,
   "metadata": {},
   "outputs": [
    {
     "data": {
      "text/plain": [
       "5.957801103591919"
      ]
     },
     "execution_count": 29,
     "metadata": {},
     "output_type": "execute_result"
    }
   ],
   "source": [
    "rhc_time"
   ]
  },
  {
   "cell_type": "code",
   "execution_count": 30,
   "metadata": {},
   "outputs": [
    {
     "data": {
      "text/plain": [
       "161.74189019203186"
      ]
     },
     "execution_count": 30,
     "metadata": {},
     "output_type": "execute_result"
    }
   ],
   "source": [
    "ga_time"
   ]
  },
  {
   "cell_type": "code",
   "execution_count": null,
   "metadata": {},
   "outputs": [],
   "source": []
  }
 ],
 "metadata": {
  "kernelspec": {
   "display_name": "Python 3",
   "language": "python",
   "name": "python3"
  },
  "language_info": {
   "codemirror_mode": {
    "name": "ipython",
    "version": 3
   },
   "file_extension": ".py",
   "mimetype": "text/x-python",
   "name": "python",
   "nbconvert_exporter": "python",
   "pygments_lexer": "ipython3",
   "version": "3.8.1"
  }
 },
 "nbformat": 4,
 "nbformat_minor": 4
}
